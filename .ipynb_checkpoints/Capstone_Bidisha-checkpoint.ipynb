{
 "cells": [
  {
   "cell_type": "markdown",
   "metadata": {},
   "source": [
    "### `Initializing Spark session` "
   ]
  },
  {
   "cell_type": "code",
   "execution_count": 1,
   "metadata": {},
   "outputs": [],
   "source": [
    "import findspark\n",
    "\n",
    "findspark.init(\"/opt/cloudera/parcels/CDH-6.2.1-1.cdh6.2.1.p0.1425774/lib/spark\")\n",
    "\n",
    "import pyspark \n",
    "\n",
    "sc = pyspark.SparkContext()\n",
    "\n",
    "from pyspark.sql import SparkSession\n",
    "\n",
    "spark = SparkSession.builder.getOrCreate()"
   ]
  },
  {
   "cell_type": "markdown",
   "metadata": {},
   "source": [
    "The data can be loaded into a PySpark SQL DataFrames creating as many DataFrames as required by the available data."
   ]
  },
  {
   "cell_type": "code",
   "execution_count": 2,
   "metadata": {},
   "outputs": [],
   "source": [
    "cases = spark.read.csv('/user/tswdsml6user0131/Capstone_Bidisha/us_cases_over_time.csv',header=True,inferSchema=True)\n",
    "census = spark.read.csv(\"/user/tswdsml6user0131/Capstone_Bidisha/us-census-data.csv\",header=True,inferSchema=True)\n",
    "states = spark.read.csv(\"/user/tswdsml6user0131/Capstone_Bidisha/usstatenamescodes.csv\",header=True,inferSchema=True)\n",
    "janssen = spark.read.csv(\"/user/tswdsml6user0131/Capstone_Bidisha/vaccines_janssen.csv\",header=True,inferSchema=True)\n",
    "moderna = spark.read.csv(\"/user/tswdsml6user0131/Capstone_Bidisha/vaccines_moderna.csv\",header=True,inferSchema=True)\n",
    "pfizer = spark.read.csv(\"/user/tswdsml6user0131/Capstone_Bidisha/vaccines_pfizer.csv\",header=True,inferSchema=True)"
   ]
  },
  {
   "cell_type": "markdown",
   "metadata": {},
   "source": [
    "### `EDA`"
   ]
  },
  {
   "cell_type": "code",
   "execution_count": 3,
   "metadata": {},
   "outputs": [
    {
     "data": {
      "text/plain": [
       "28740"
      ]
     },
     "execution_count": 3,
     "metadata": {},
     "output_type": "execute_result"
    }
   ],
   "source": [
    "cases.count()"
   ]
  },
  {
   "cell_type": "code",
   "execution_count": 4,
   "metadata": {},
   "outputs": [
    {
     "name": "stdout",
     "output_type": "stream",
     "text": [
      "root\n",
      " |-- submission_date: string (nullable = true)\n",
      " |-- state: string (nullable = true)\n",
      " |-- tot_cases: integer (nullable = true)\n",
      " |-- conf_cases: integer (nullable = true)\n",
      " |-- prob_cases: integer (nullable = true)\n",
      " |-- new_case: integer (nullable = true)\n",
      " |-- pnew_case: integer (nullable = true)\n",
      " |-- tot_death: integer (nullable = true)\n",
      " |-- conf_death: integer (nullable = true)\n",
      " |-- prob_death: integer (nullable = true)\n",
      " |-- new_death: integer (nullable = true)\n",
      " |-- pnew_death: integer (nullable = true)\n",
      " |-- created_at: string (nullable = true)\n",
      " |-- consent_cases: string (nullable = true)\n",
      " |-- consent_deaths: string (nullable = true)\n",
      "\n"
     ]
    }
   ],
   "source": [
    "cases.printSchema()"
   ]
  },
  {
   "cell_type": "code",
   "execution_count": 5,
   "metadata": {},
   "outputs": [
    {
     "name": "stdout",
     "output_type": "stream",
     "text": [
      "+-------+------+\n",
      "| STNAME|STCODE|\n",
      "+-------+------+\n",
      "|ALABAMA|    AL|\n",
      "| ALASKA|    AK|\n",
      "+-------+------+\n",
      "only showing top 2 rows\n",
      "\n"
     ]
    }
   ],
   "source": [
    "states.show(2)"
   ]
  },
  {
   "cell_type": "code",
   "execution_count": 6,
   "metadata": {},
   "outputs": [
    {
     "name": "stdout",
     "output_type": "stream",
     "text": [
      "+------------+-------------------+--------------------+\n",
      "|Jurisdiction|Week of Allocations|1st Dose Allocations|\n",
      "+------------+-------------------+--------------------+\n",
      "| Connecticut|         05/10/2021|                6400|\n",
      "|       Maine|         05/10/2021|                2500|\n",
      "+------------+-------------------+--------------------+\n",
      "only showing top 2 rows\n",
      "\n"
     ]
    }
   ],
   "source": [
    "janssen.show(2)"
   ]
  },
  {
   "cell_type": "code",
   "execution_count": 7,
   "metadata": {},
   "outputs": [
    {
     "name": "stdout",
     "output_type": "stream",
     "text": [
      "+------------+-------------------+--------------------+--------------------+\n",
      "|Jurisdiction|Week of Allocations|1st Dose Allocations|2nd Dose Allocations|\n",
      "+------------+-------------------+--------------------+--------------------+\n",
      "| Connecticut|         05/17/2021|               41220|               41220|\n",
      "|       Maine|         05/17/2021|               15800|               15800|\n",
      "+------------+-------------------+--------------------+--------------------+\n",
      "only showing top 2 rows\n",
      "\n"
     ]
    }
   ],
   "source": [
    "moderna.show(2)"
   ]
  },
  {
   "cell_type": "code",
   "execution_count": 8,
   "metadata": {},
   "outputs": [
    {
     "name": "stdout",
     "output_type": "stream",
     "text": [
      "+------------+-------------------+--------------------+--------------------+\n",
      "|Jurisdiction|Week of Allocations|1st Dose Allocations|2nd Dose Allocations|\n",
      "+------------+-------------------+--------------------+--------------------+\n",
      "| Connecticut|         05/17/2021|               54990|               54990|\n",
      "|       Maine|         05/17/2021|               21060|               21060|\n",
      "+------------+-------------------+--------------------+--------------------+\n",
      "only showing top 2 rows\n",
      "\n"
     ]
    }
   ],
   "source": [
    "pfizer.show(2)"
   ]
  },
  {
   "cell_type": "code",
   "execution_count": 9,
   "metadata": {},
   "outputs": [
    {
     "data": {
      "text/plain": [
       "(28740, 15)"
      ]
     },
     "execution_count": 9,
     "metadata": {},
     "output_type": "execute_result"
    }
   ],
   "source": [
    "cases.count(), len(cases.columns)"
   ]
  },
  {
   "cell_type": "code",
   "execution_count": 10,
   "metadata": {},
   "outputs": [
    {
     "data": {
      "text/plain": [
       "(3193, 164)"
      ]
     },
     "execution_count": 10,
     "metadata": {},
     "output_type": "execute_result"
    }
   ],
   "source": [
    "census.count(), len(census.columns)"
   ]
  },
  {
   "cell_type": "code",
   "execution_count": 11,
   "metadata": {},
   "outputs": [
    {
     "data": {
      "text/plain": [
       "(56, 2)"
      ]
     },
     "execution_count": 11,
     "metadata": {},
     "output_type": "execute_result"
    }
   ],
   "source": [
    "states.count(), len(states.columns)"
   ]
  },
  {
   "cell_type": "code",
   "execution_count": 12,
   "metadata": {},
   "outputs": [
    {
     "data": {
      "text/plain": [
       "(504, 3)"
      ]
     },
     "execution_count": 12,
     "metadata": {},
     "output_type": "execute_result"
    }
   ],
   "source": [
    "janssen.count(), len(janssen.columns)"
   ]
  },
  {
   "cell_type": "code",
   "execution_count": 13,
   "metadata": {},
   "outputs": [
    {
     "data": {
      "text/plain": [
       "(1386, 4)"
      ]
     },
     "execution_count": 13,
     "metadata": {},
     "output_type": "execute_result"
    }
   ],
   "source": [
    "moderna.count(), len(moderna.columns)"
   ]
  },
  {
   "cell_type": "code",
   "execution_count": 14,
   "metadata": {},
   "outputs": [
    {
     "data": {
      "text/plain": [
       "(1449, 4)"
      ]
     },
     "execution_count": 14,
     "metadata": {},
     "output_type": "execute_result"
    }
   ],
   "source": [
    "pfizer.count(), len(pfizer.columns)"
   ]
  },
  {
   "cell_type": "markdown",
   "metadata": {},
   "source": [
    "### `Problem Statements`"
   ]
  },
  {
   "cell_type": "markdown",
   "metadata": {},
   "source": [
    "From the census data only the required columns need to be taken and loaded into a look up table to get the population of any state based on the state code.\n"
   ]
  },
  {
   "cell_type": "code",
   "execution_count": 15,
   "metadata": {},
   "outputs": [],
   "source": [
    "from pyspark.sql.functions import *"
   ]
  },
  {
   "cell_type": "code",
   "execution_count": 16,
   "metadata": {},
   "outputs": [],
   "source": [
    "population_by_state = census.select(\"STNAME\",'CENSUS2010POP', \"POPESTIMATE2019\").groupBy('STNAME')\\\n",
    "                      .agg(sum('CENSUS2010POP').alias('Actualpop2010'),\\\n",
    "                           sum('POPESTIMATE2019').alias('Estimatedpop2019'))"
   ]
  },
  {
   "cell_type": "code",
   "execution_count": 17,
   "metadata": {},
   "outputs": [
    {
     "name": "stdout",
     "output_type": "stream",
     "text": [
      "+------+-------------+----------------+\n",
      "|STNAME|Actualpop2010|Estimatedpop2019|\n",
      "+------+-------------+----------------+\n",
      "|  Utah|      5527770|         6411916|\n",
      "|Hawaii|      2720602|         2831744|\n",
      "+------+-------------+----------------+\n",
      "only showing top 2 rows\n",
      "\n"
     ]
    }
   ],
   "source": [
    "population_by_state.show(2)"
   ]
  },
  {
   "cell_type": "code",
   "execution_count": 18,
   "metadata": {},
   "outputs": [
    {
     "name": "stdout",
     "output_type": "stream",
     "text": [
      "+-------+------+\n",
      "| STNAME|STCODE|\n",
      "+-------+------+\n",
      "|ALABAMA|    AL|\n",
      "| ALASKA|    AK|\n",
      "+-------+------+\n",
      "only showing top 2 rows\n",
      "\n"
     ]
    }
   ],
   "source": [
    "states.show(2)"
   ]
  },
  {
   "cell_type": "markdown",
   "metadata": {},
   "source": [
    "A delimited file of the names of states in the US and their standard code also needs to be used as it gives a standardize way to refer to the states in all the datasets.\n"
   ]
  },
  {
   "cell_type": "code",
   "execution_count": 19,
   "metadata": {},
   "outputs": [],
   "source": [
    "population_by_stcode = states.join(population_by_state,\\\n",
    "                       lower(states.STNAME) == lower(population_by_state.STNAME))\\\n",
    "                       .drop(states.STNAME)"
   ]
  },
  {
   "cell_type": "code",
   "execution_count": 20,
   "metadata": {},
   "outputs": [
    {
     "name": "stdout",
     "output_type": "stream",
     "text": [
      "+------+------+-------------+----------------+\n",
      "|STCODE|STNAME|Actualpop2010|Estimatedpop2019|\n",
      "+------+------+-------------+----------------+\n",
      "|    UT|  Utah|      5527770|         6411916|\n",
      "|    HI|Hawaii|      2720602|         2831744|\n",
      "+------+------+-------------+----------------+\n",
      "only showing top 2 rows\n",
      "\n"
     ]
    }
   ],
   "source": [
    "population_by_stcode.show(2)"
   ]
  },
  {
   "cell_type": "markdown",
   "metadata": {},
   "source": [
    "`Sanity Checks`\n",
    "- For data cleansing we need to check and remove the records where The sum of confirmed cases and probable cases is not equal to the total cases.\n",
    "-  Similarly records when the sum of confirmed deaths and probable deaths is not equal to the total deaths the records are rejected. \n"
   ]
  },
  {
   "cell_type": "code",
   "execution_count": 21,
   "metadata": {},
   "outputs": [],
   "source": [
    "cases_authentic = cases.filter((col('conf_cases')+col(\"prob_cases\")== col(\"tot_cases\"))\\\n",
    "                    & (col('conf_death')+col(\"prob_death\")== col(\"tot_death\")))"
   ]
  },
  {
   "cell_type": "code",
   "execution_count": 22,
   "metadata": {
    "scrolled": true
   },
   "outputs": [
    {
     "name": "stdout",
     "output_type": "stream",
     "text": [
      "+---------------+-----+---------+----------+----------+--------+---------+---------+----------+----------+---------+----------+--------------------+-------------+--------------+\n",
      "|submission_date|state|tot_cases|conf_cases|prob_cases|new_case|pnew_case|tot_death|conf_death|prob_death|new_death|pnew_death|          created_at|consent_cases|consent_deaths|\n",
      "+---------------+-----+---------+----------+----------+--------+---------+---------+----------+----------+---------+----------+--------------------+-------------+--------------+\n",
      "|     07/23/2020|   KY|    25147|     23882|      1265|     607|       61|      684|       680|         4|        7|         0|07/24/2020 02:18:...|        Agree|         Agree|\n",
      "|     04/11/2021|   NJ|   953490|    837052|    116438|    3387|      517|    24870|     22297|      2573|       11|         0|04/12/2021 01:39:...|        Agree|         Agree|\n",
      "+---------------+-----+---------+----------+----------+--------+---------+---------+----------+----------+---------+----------+--------------------+-------------+--------------+\n",
      "only showing top 2 rows\n",
      "\n"
     ]
    }
   ],
   "source": [
    "cases_authentic.show(2)"
   ]
  },
  {
   "cell_type": "code",
   "execution_count": 23,
   "metadata": {},
   "outputs": [
    {
     "data": {
      "text/plain": [
       "11051"
      ]
     },
     "execution_count": 23,
     "metadata": {},
     "output_type": "execute_result"
    }
   ],
   "source": [
    "cases_authentic.count()"
   ]
  },
  {
   "cell_type": "code",
   "execution_count": 24,
   "metadata": {},
   "outputs": [
    {
     "data": {
      "text/plain": [
       "28740"
      ]
     },
     "execution_count": 24,
     "metadata": {},
     "output_type": "execute_result"
    }
   ],
   "source": [
    "cases.count()"
   ]
  },
  {
   "cell_type": "markdown",
   "metadata": {},
   "source": [
    "The dates given in the first data set are not in the default format of PySpark SQL/Hive. \n",
    "So we need to format the dates to make use of the timestamp/date calculations"
   ]
  },
  {
   "cell_type": "code",
   "execution_count": 25,
   "metadata": {},
   "outputs": [],
   "source": [
    "cases_authentic_timestamp = cases_authentic.withColumn('submission_date',\\\n",
    "                           to_timestamp(col('submission_date'), 'mm/dd/yyyy'))"
   ]
  },
  {
   "cell_type": "code",
   "execution_count": 26,
   "metadata": {},
   "outputs": [
    {
     "name": "stdout",
     "output_type": "stream",
     "text": [
      "+-------------------+-----+---------+----------+----------+--------+---------+---------+----------+----------+---------+----------+--------------------+-------------+--------------+\n",
      "|    submission_date|state|tot_cases|conf_cases|prob_cases|new_case|pnew_case|tot_death|conf_death|prob_death|new_death|pnew_death|          created_at|consent_cases|consent_deaths|\n",
      "+-------------------+-----+---------+----------+----------+--------+---------+---------+----------+----------+---------+----------+--------------------+-------------+--------------+\n",
      "|2020-01-23 00:07:00|   KY|    25147|     23882|      1265|     607|       61|      684|       680|         4|        7|         0|07/24/2020 02:18:...|        Agree|         Agree|\n",
      "+-------------------+-----+---------+----------+----------+--------+---------+---------+----------+----------+---------+----------+--------------------+-------------+--------------+\n",
      "only showing top 1 row\n",
      "\n"
     ]
    }
   ],
   "source": [
    "cases_authentic_timestamp.show(1)"
   ]
  },
  {
   "cell_type": "code",
   "execution_count": 27,
   "metadata": {},
   "outputs": [
    {
     "name": "stdout",
     "output_type": "stream",
     "text": [
      "root\n",
      " |-- submission_date: timestamp (nullable = true)\n",
      " |-- state: string (nullable = true)\n",
      " |-- tot_cases: integer (nullable = true)\n",
      " |-- conf_cases: integer (nullable = true)\n",
      " |-- prob_cases: integer (nullable = true)\n",
      " |-- new_case: integer (nullable = true)\n",
      " |-- pnew_case: integer (nullable = true)\n",
      " |-- tot_death: integer (nullable = true)\n",
      " |-- conf_death: integer (nullable = true)\n",
      " |-- prob_death: integer (nullable = true)\n",
      " |-- new_death: integer (nullable = true)\n",
      " |-- pnew_death: integer (nullable = true)\n",
      " |-- created_at: string (nullable = true)\n",
      " |-- consent_cases: string (nullable = true)\n",
      " |-- consent_deaths: string (nullable = true)\n",
      "\n"
     ]
    }
   ],
   "source": [
    "cases_authentic_timestamp.printSchema()"
   ]
  },
  {
   "cell_type": "code",
   "execution_count": 28,
   "metadata": {},
   "outputs": [],
   "source": [
    "cases_authentic_by_state = cases_authentic.groupby(\"state\")\\\n",
    "                          .agg(sum('tot_cases').alias('tot_cases'),\\\n",
    "                               sum('conf_cases').alias('conf_cases'),\\\n",
    "                               sum('prob_cases').alias('prob_cases'),\\\n",
    "                               sum('new_case').alias('new_case'),\\\n",
    "                               sum('pnew_case').alias('pnew_case'),\\\n",
    "                               sum('tot_death').alias('tot_death'),\\\n",
    "                               sum('conf_death').alias('conf_death'),\\\n",
    "                               sum('prob_death').alias('prob_death'),\\\n",
    "                               sum('new_death').alias('new_death'),\\\n",
    "                               sum('pnew_death').alias('pnew_death'),\\\n",
    "                               max('submission_date').alias('submission_date'))"
   ]
  },
  {
   "cell_type": "code",
   "execution_count": 29,
   "metadata": {},
   "outputs": [
    {
     "name": "stdout",
     "output_type": "stream",
     "text": [
      "+-----+---------+----------+----------+--------+---------+---------+----------+----------+---------+----------+---------------+\n",
      "|state|tot_cases|conf_cases|prob_cases|new_case|pnew_case|tot_death|conf_death|prob_death|new_death|pnew_death|submission_date|\n",
      "+-----+---------+----------+----------+--------+---------+---------+----------+----------+---------+----------+---------------+\n",
      "|   AZ|153156910| 144930924|   8225986|  866678|    64475|  3074608|   2786532|    288076|    17270|      1943|     12/31/2020|\n",
      "|  FSM|      127|       127|         0|       1|        0|        0|         0|         0|        0|         0|     12/31/2020|\n",
      "|   NJ|108059772|  95724885|  12334887|  502510|    75871|  3084866|   2774020|    310846|     8662|       627|     05/14/2021|\n",
      "|   OR| 29408702|  29061876|    346826|  192698|        0|   420822|    417846|      2976|     2510|         0|     12/31/2020|\n",
      "+-----+---------+----------+----------+--------+---------+---------+----------+----------+---------+----------+---------------+\n",
      "only showing top 4 rows\n",
      "\n"
     ]
    }
   ],
   "source": [
    "cases_authentic_by_state.show(4)"
   ]
  },
  {
   "cell_type": "markdown",
   "metadata": {},
   "source": [
    "Next the data needs to be augmented by adding a few derived fields as explained below.\n",
    "- Take the census data and extract the estimated population of 2019. – Selection of relevant columns\n",
    "- Look up the standard state names and code table and get the state-wise census into a DataFrame and/or a Hive table. – Aggregation & Joining with state names dataset\n"
   ]
  },
  {
   "cell_type": "markdown",
   "metadata": {},
   "source": [
    "The above step has already been done when we have extracted the population data by statecode.\n",
    "So, the same look up table `population_by_stcode` can be reused here"
   ]
  },
  {
   "cell_type": "code",
   "execution_count": 30,
   "metadata": {},
   "outputs": [],
   "source": [
    "df_EstimatedPop2019 = population_by_stcode.select('STCODE','STNAME','Estimatedpop2019')"
   ]
  },
  {
   "cell_type": "code",
   "execution_count": 31,
   "metadata": {},
   "outputs": [
    {
     "name": "stdout",
     "output_type": "stream",
     "text": [
      "+------+--------------------+----------------+\n",
      "|STCODE|              STNAME|Estimatedpop2019|\n",
      "+------+--------------------+----------------+\n",
      "|    UT|                Utah|         6411916|\n",
      "|    HI|              Hawaii|         2831744|\n",
      "|    MN|           Minnesota|        11279264|\n",
      "|    OH|                Ohio|        23378200|\n",
      "|    AR|            Arkansas|         6035608|\n",
      "|    OR|              Oregon|         8435474|\n",
      "|    TX|               Texas|        57991762|\n",
      "|    ND|        North Dakota|         1524124|\n",
      "|    PA|        Pennsylvania|        25603978|\n",
      "|    CT|         Connecticut|         7130574|\n",
      "|    NE|            Nebraska|         3868816|\n",
      "|    VT|             Vermont|         1247978|\n",
      "|    NV|              Nevada|         6160312|\n",
      "|    WA|          Washington|        15229786|\n",
      "|    IL|            Illinois|        25343642|\n",
      "|    OK|            Oklahoma|         7913942|\n",
      "|    DC|District of Columbia|         1411498|\n",
      "|    DE|            Delaware|         1947528|\n",
      "|    AK|              Alaska|         1463090|\n",
      "|    NM|          New Mexico|         4193658|\n",
      "+------+--------------------+----------------+\n",
      "only showing top 20 rows\n",
      "\n"
     ]
    }
   ],
   "source": [
    "df_EstimatedPop2019.show()"
   ]
  },
  {
   "cell_type": "markdown",
   "metadata": {},
   "source": [
    "Now joining the resultant dataframe with our Cases dataset.\n",
    "\n",
    "Once we are equipped with the above processed data we can write the data into `Parquet` format. \n"
   ]
  },
  {
   "cell_type": "code",
   "execution_count": 32,
   "metadata": {},
   "outputs": [],
   "source": [
    "df_cases_with_estimatedpop2019 = df_EstimatedPop2019.join(cases_authentic_by_state, \\\n",
    "                                 col('STCODE') == col('state'))"
   ]
  },
  {
   "cell_type": "code",
   "execution_count": 33,
   "metadata": {},
   "outputs": [
    {
     "name": "stdout",
     "output_type": "stream",
     "text": [
      "+------+------+----------------+---------+----------+----------+\n",
      "|STCODE|STNAME|Estimatedpop2019|tot_cases|conf_cases|conf_death|\n",
      "+------+------+----------------+---------+----------+----------+\n",
      "|    UT|  Utah|         6411916| 68682628|  68653597|    356085|\n",
      "|    OH|  Ohio|        23378200|173559217| 152098392|   3014436|\n",
      "+------+------+----------------+---------+----------+----------+\n",
      "only showing top 2 rows\n",
      "\n"
     ]
    }
   ],
   "source": [
    "df_cases_with_estimatedpop2019.select(\"STCODE\",\"STNAME\",'Estimatedpop2019','tot_cases',\\\n",
    "                                      'conf_cases',\"conf_death\").show(2)"
   ]
  },
  {
   "cell_type": "code",
   "execution_count": 34,
   "metadata": {},
   "outputs": [],
   "source": [
    "df_cases_with_estimatedpop2019.write.mode('overwrite').\\\n",
    "parquet('/user/tswdsml6user0131/Capstone_Bidisha/cases_with_estimatedpop2019.parquet')"
   ]
  },
  {
   "cell_type": "markdown",
   "metadata": {},
   "source": [
    "From this data the following listing or reports need to be generated and displayed.\n",
    "\n",
    "- Compute and list the Positive Case Rate per 100000  population for each state. This is calculated as:\n",
    " `(Total positive cases in the state / Total estimated Population of the state)*100000`"
   ]
  },
  {
   "cell_type": "code",
   "execution_count": 35,
   "metadata": {},
   "outputs": [
    {
     "name": "stdout",
     "output_type": "stream",
     "text": [
      "+------+-----------+----------------------------+\n",
      "|STCODE|     STNAME|positiveCaseRate(Per 100000)|\n",
      "+------+-----------+----------------------------+\n",
      "|    UT|       Utah|                  1070718.91|\n",
      "|    OH|       Ohio|                   650599.24|\n",
      "|    OR|     Oregon|                   344519.77|\n",
      "|    CT|Connecticut|                   723854.66|\n",
      "+------+-----------+----------------------------+\n",
      "only showing top 4 rows\n",
      "\n"
     ]
    }
   ],
   "source": [
    "df_cases_with_estimatedpop2019.withColumn('positiveCaseRate(Per 100000)',\\\n",
    "                                           col(\"conf_cases\") / col(\"Estimatedpop2019\") * 100000)\\\n",
    "                        .select(\"STCODE\",\"STNAME\",round('positiveCaseRate(Per 100000)',2)\\\n",
    "                        .alias('positiveCaseRate(Per 100000)'))\\\n",
    "                        .show(4)"
   ]
  },
  {
   "cell_type": "markdown",
   "metadata": {},
   "source": [
    "Get the number of identified positive cases in each state in the last 7 days of the reporting period. "
   ]
  },
  {
   "cell_type": "code",
   "execution_count": 36,
   "metadata": {},
   "outputs": [],
   "source": [
    "df_confCasesbyStatebyDate = \\\n",
    "             cases_authentic_timestamp.select('state', 'submission_date','conf_cases')\\\n",
    "                                      .withColumn('Date', to_date('submission_date'))\\\n",
    "                                      .drop('submission_date')\\\n",
    "                                      .groupBy('state','Date').agg(sum('conf_cases')\\\n",
    "                                      .alias('IDPositiveCases')) #to_date only acts on timestamp col\n"
   ]
  },
  {
   "cell_type": "code",
   "execution_count": 37,
   "metadata": {},
   "outputs": [
    {
     "name": "stdout",
     "output_type": "stream",
     "text": [
      "+-----+----------+---------------+\n",
      "|state|      Date|IDPositiveCases|\n",
      "+-----+----------+---------------+\n",
      "|   AL|2020-01-14|         945694|\n",
      "|   AL|2020-01-07|         876173|\n",
      "|   AL|2021-01-20|        1545112|\n",
      "|   AL|2020-01-26|        1062544|\n",
      "|   AL|2021-01-21|        1548195|\n",
      "|   AL|2021-01-31|         771530|\n",
      "|   AL|2021-01-15|        1529947|\n",
      "|   AL|2020-01-27|        1073240|\n",
      "|   AL|2021-01-22|        1551375|\n",
      "|   AL|2021-01-13|        1934624|\n",
      "|   AL|2021-01-27|        1566081|\n",
      "|   AL|2020-01-16|         967020|\n",
      "|   AL|2021-01-10|        1921655|\n",
      "|   AL|2020-01-29|        1098446|\n",
      "|   AL|2021-01-28|        1568374|\n",
      "|   AL|2020-01-01|         823776|\n",
      "|   AL|2020-01-13|         934577|\n",
      "|   AL|2020-01-25|        1054366|\n",
      "|   AL|2021-01-18|        1538558|\n",
      "|   AL|2021-01-17|        1534891|\n",
      "+-----+----------+---------------+\n",
      "only showing top 20 rows\n",
      "\n"
     ]
    }
   ],
   "source": [
    "df_confCasesbyStatebyDate.orderBy(\"state\").show(20)"
   ]
  },
  {
   "cell_type": "code",
   "execution_count": 38,
   "metadata": {},
   "outputs": [
    {
     "name": "stdout",
     "output_type": "stream",
     "text": [
      "+-----+----------------------------------+\n",
      "|state|IDPositiveCasesPerStateInLast7Days|\n",
      "+-----+----------------------------------+\n",
      "|   AL|                           9388302|\n",
      "|   AZ|                          18168895|\n",
      "|   CO|                          10072363|\n",
      "|   CT|                           6520187|\n",
      "|   DE|                           2038094|\n",
      "|  FSM|                                24|\n",
      "|   GA|                          19632690|\n",
      "|   ID|                           3386882|\n",
      "|   IL|                          29177141|\n",
      "|   KY|                           7466840|\n",
      "|   MA|                          13616672|\n",
      "|   ME|                            900503|\n",
      "|   MI|                          15822475|\n",
      "|   MP|                              3597|\n",
      "|   MS|                           4404990|\n",
      "|   MT|                           2321488|\n",
      "|   NC|                          18093872|\n",
      "|   NJ|                          17811665|\n",
      "|  NYC|                          15511648|\n",
      "|   OH|                          20109253|\n",
      "+-----+----------------------------------+\n",
      "only showing top 20 rows\n",
      "\n"
     ]
    }
   ],
   "source": [
    "from pyspark.sql.window import Window\n",
    "window = Window.partitionBy(df_confCasesbyStatebyDate['state'])\\\n",
    "         .orderBy(df_confCasesbyStatebyDate.Date.desc())\n",
    "\n",
    "df_confCasesbyStatebyDate.select('*', rank().over(window).alias('rank'))\\\n",
    "          .filter(col('rank') <= 7)\\\n",
    "          .groupBy('state').agg(sum('IDPositiveCases')\\\n",
    "          .alias('IDPositiveCasesPerStateInLast7Days'))\\\n",
    "          .orderBy('state')\\\n",
    "          .show()"
   ]
  },
  {
   "cell_type": "markdown",
   "metadata": {},
   "source": [
    "Compute and list the Deaths Rate per 100000  due to COVID-19 population for each state. This is calculated as:\n",
    " (Total deaths due to COVID-19 in the state / Total estimated Population of the state)*100000\n"
   ]
  },
  {
   "cell_type": "code",
   "execution_count": 39,
   "metadata": {},
   "outputs": [
    {
     "name": "stdout",
     "output_type": "stream",
     "text": [
      "+------+-----------+---------------------+\n",
      "|STCODE|     STNAME|deathRate(Per 100000)|\n",
      "+------+-----------+---------------------+\n",
      "|    UT|       Utah|              5553.49|\n",
      "|    OH|       Ohio|             12894.22|\n",
      "|    OR|     Oregon|              4953.44|\n",
      "|    CT|Connecticut|             24085.13|\n",
      "+------+-----------+---------------------+\n",
      "only showing top 4 rows\n",
      "\n"
     ]
    }
   ],
   "source": [
    "df_cases_with_estimatedpop2019.withColumn('deathRate(Per 100000)',\\\n",
    "                               col(\"conf_death\") / col(\"Estimatedpop2019\") * 100000)\\\n",
    "                               .select(\"STCODE\",\"STNAME\",round('deathRate(Per 100000)', 2)\\\n",
    "                               .alias('deathRate(Per 100000)'))\\\n",
    "                               .show(4)"
   ]
  },
  {
   "cell_type": "markdown",
   "metadata": {},
   "source": [
    "Get the number of deaths due to COVID-19 as identified in each state in the last 7 days of the reporting period."
   ]
  },
  {
   "cell_type": "code",
   "execution_count": 40,
   "metadata": {},
   "outputs": [
    {
     "name": "stdout",
     "output_type": "stream",
     "text": [
      "+-----+-------------------------------+\n",
      "|state|IDDeathCasesPerStateInLast7Days|\n",
      "+-----+-------------------------------+\n",
      "|   AL|                         195504|\n",
      "|   AZ|                         332981|\n",
      "|   CO|                         125476|\n",
      "|   CT|                         150014|\n",
      "|   DE|                          30621|\n",
      "|  FSM|                              0|\n",
      "|   GA|                         366146|\n",
      "|   ID|                          39647|\n",
      "|   IL|                         495153|\n",
      "|   KY|                         113118|\n",
      "|   MA|                         384722|\n",
      "|   ME|                          16216|\n",
      "|   MI|                         380226|\n",
      "|   MP|                             48|\n",
      "|   MS|                         116847|\n",
      "|   MT|                          33308|\n",
      "|   NC|                         238287|\n",
      "|   NJ|                         507829|\n",
      "|  NYC|                         597499|\n",
      "|   OH|                         371928|\n",
      "+-----+-------------------------------+\n",
      "only showing top 20 rows\n",
      "\n"
     ]
    }
   ],
   "source": [
    "df_deathCasesbyStatebyDate = \\\n",
    "             cases_authentic_timestamp.select('state', 'submission_date','conf_death')\\\n",
    "                                      .withColumn('Date', to_date('submission_date'))\\\n",
    "                                      .drop('submission_date')\\\n",
    "                                      .groupBy('state','Date').agg(sum('conf_death')\\\n",
    "                                      .alias('IDDeathCases'))\n",
    "\n",
    "from pyspark.sql.window import Window\n",
    "window = Window.partitionBy(df_deathCasesbyStatebyDate['state'])\\\n",
    "         .orderBy(df_deathCasesbyStatebyDate.Date.desc())\n",
    "\n",
    "df_deathCasesbyStatebyDate.select('*', rank().over(window).alias('rank'))\\\n",
    "          .filter(col('rank') <= 7)\\\n",
    "          .groupBy('state').agg(sum('IDDeathCases')\\\n",
    "          .alias('IDDeathCasesPerStateInLast7Days'))\\\n",
    "          .orderBy('state')\\\n",
    "          .show()"
   ]
  },
  {
   "cell_type": "markdown",
   "metadata": {},
   "source": [
    "Vaccine Allocation & Distribution\n",
    "State-wise breakup of allocation of Pfizer vaccine\n"
   ]
  },
  {
   "cell_type": "code",
   "execution_count": 41,
   "metadata": {},
   "outputs": [
    {
     "name": "stdout",
     "output_type": "stream",
     "text": [
      "+-------------+-------------------+--------------------+--------------------+\n",
      "| Jurisdiction|Week of Allocations|1st Dose Allocations|2nd Dose Allocations|\n",
      "+-------------+-------------------+--------------------+--------------------+\n",
      "|  Connecticut|         05/17/2021|               54990|               54990|\n",
      "|        Maine|         05/17/2021|               21060|               21060|\n",
      "|Massachusetts|         05/17/2021|              105300|              105300|\n",
      "|New Hampshire|         05/17/2021|               21060|               21060|\n",
      "+-------------+-------------------+--------------------+--------------------+\n",
      "only showing top 4 rows\n",
      "\n"
     ]
    }
   ],
   "source": [
    "pfizer.show(4)"
   ]
  },
  {
   "cell_type": "code",
   "execution_count": 42,
   "metadata": {},
   "outputs": [],
   "source": [
    "pfizer_by_Jurisdiction = pfizer.drop(\"Week of Allocations\").groupby(\"Jurisdiction\")\\\n",
    "                            .agg(sum(\"1st Dose Allocations\").alias('tot_first_dose_alloc'),sum(\"2nd Dose Allocations\")\\\n",
    "                            .alias('tot_second_dose_alloc')).orderBy(\"Jurisdiction\")"
   ]
  },
  {
   "cell_type": "code",
   "execution_count": 43,
   "metadata": {},
   "outputs": [
    {
     "name": "stdout",
     "output_type": "stream",
     "text": [
      "+--------------+--------------------+---------------------+\n",
      "|  Jurisdiction|tot_first_dose_alloc|tot_second_dose_alloc|\n",
      "+--------------+--------------------+---------------------+\n",
      "|       Alabama|             1191840|              1191840|\n",
      "|        Alaska|              286260|               274560|\n",
      "|American Samoa|               42510|                    0|\n",
      "|       Arizona|             1690260|              1690260|\n",
      "|      Arkansas|              729300|               729300|\n",
      "|    California|             9455160|              9455160|\n",
      "|       Chicago|              673725|               673725|\n",
      "|      Colorado|             1352325|              1352325|\n",
      "|   Connecticut|              904800|               904800|\n",
      "|      Delaware|              250770|               250770|\n",
      "+--------------+--------------------+---------------------+\n",
      "only showing top 10 rows\n",
      "\n"
     ]
    }
   ],
   "source": [
    "pfizer_by_Jurisdiction.show(10)"
   ]
  },
  {
   "cell_type": "markdown",
   "metadata": {},
   "source": [
    "State-wise breakup of allocation of Moderna vaccine\n"
   ]
  },
  {
   "cell_type": "code",
   "execution_count": 44,
   "metadata": {},
   "outputs": [],
   "source": [
    "moderna_by_Jurisdiction = moderna.drop(\"Week of Allocations\").groupby(\"Jurisdiction\")\\\n",
    "                        .agg(sum(\"1st Dose Allocations\").alias('tot_first_dose_alloc'),\\\n",
    "                             sum(\"2nd Dose Allocations\").alias('tot_second_dose_alloc'))\\\n",
    "                            .orderBy(\"Jurisdiction\")"
   ]
  },
  {
   "cell_type": "code",
   "execution_count": 45,
   "metadata": {},
   "outputs": [
    {
     "name": "stdout",
     "output_type": "stream",
     "text": [
      "+--------------+--------------------+---------------------+\n",
      "|  Jurisdiction|tot_first_dose_alloc|tot_second_dose_alloc|\n",
      "+--------------+--------------------+---------------------+\n",
      "|       Alabama|             1021660|              1021660|\n",
      "|        Alaska|              225860|               225860|\n",
      "|American Samoa|               17400|                    0|\n",
      "|       Arizona|             1448360|              1448360|\n",
      "|      Arkansas|              619920|               619920|\n",
      "|    California|             8149300|              8149300|\n",
      "|       Chicago|              567920|               567920|\n",
      "|      Colorado|             1158700|              1158700|\n",
      "|   Connecticut|              767420|               767420|\n",
      "|      Delaware|              203440|               203440|\n",
      "+--------------+--------------------+---------------------+\n",
      "only showing top 10 rows\n",
      "\n"
     ]
    }
   ],
   "source": [
    "moderna_by_Jurisdiction.show(10)"
   ]
  },
  {
   "cell_type": "code",
   "execution_count": 46,
   "metadata": {},
   "outputs": [
    {
     "name": "stdout",
     "output_type": "stream",
     "text": [
      "root\n",
      " |-- Jurisdiction: string (nullable = true)\n",
      " |-- tot_first_dose_alloc: long (nullable = true)\n",
      " |-- tot_second_dose_alloc: long (nullable = true)\n",
      "\n"
     ]
    }
   ],
   "source": [
    "moderna_by_Jurisdiction.printSchema()"
   ]
  },
  {
   "cell_type": "markdown",
   "metadata": {},
   "source": [
    "State-wise breakup of allocation of Jenssen vaccine\n"
   ]
  },
  {
   "cell_type": "code",
   "execution_count": 47,
   "metadata": {},
   "outputs": [],
   "source": [
    "janssen_by_Jurisdiction = janssen.drop(\"Week of Allocations\").groupby(\"Jurisdiction\")\\\n",
    "                            .agg(sum(\"1st Dose Allocations\").alias('tot_first_dose_alloc'))\\\n",
    "                            .orderBy(\"Jurisdiction\")"
   ]
  },
  {
   "cell_type": "code",
   "execution_count": 48,
   "metadata": {},
   "outputs": [
    {
     "name": "stdout",
     "output_type": "stream",
     "text": [
      "+--------------+--------------------+\n",
      "|  Jurisdiction|tot_first_dose_alloc|\n",
      "+--------------+--------------------+\n",
      "|       Alabama|              179400|\n",
      "|        Alaska|               39900|\n",
      "|American Samoa|                4600|\n",
      "|       Arizona|              253900|\n",
      "|      Arkansas|              109000|\n",
      "|    California|             1428400|\n",
      "|       Chicago|               99900|\n",
      "|      Colorado|              203400|\n",
      "|   Connecticut|              134800|\n",
      "|      Delaware|               35700|\n",
      "+--------------+--------------------+\n",
      "only showing top 10 rows\n",
      "\n"
     ]
    }
   ],
   "source": [
    "janssen_by_Jurisdiction.show(10)"
   ]
  },
  {
   "cell_type": "markdown",
   "metadata": {},
   "source": [
    "Total number of vaccines allocated – State-wise breakup\n",
    "- in order to do that, we need to add a third column to the `janssen` dataframe and the union all of them"
   ]
  },
  {
   "cell_type": "code",
   "execution_count": 49,
   "metadata": {},
   "outputs": [],
   "source": [
    "janssen_by_Jurisdiction = janssen_by_Jurisdiction.withColumn(\"tot_second_dose_alloc\",\\\n",
    "                                                              lit('0').cast('long'))"
   ]
  },
  {
   "cell_type": "code",
   "execution_count": 50,
   "metadata": {},
   "outputs": [
    {
     "name": "stdout",
     "output_type": "stream",
     "text": [
      "+--------------+--------------------+---------------------+\n",
      "|  Jurisdiction|tot_first_dose_alloc|tot_second_dose_alloc|\n",
      "+--------------+--------------------+---------------------+\n",
      "|       Alabama|              179400|                    0|\n",
      "|        Alaska|               39900|                    0|\n",
      "|American Samoa|                4600|                    0|\n",
      "|       Arizona|              253900|                    0|\n",
      "+--------------+--------------------+---------------------+\n",
      "only showing top 4 rows\n",
      "\n"
     ]
    }
   ],
   "source": [
    "janssen_by_Jurisdiction.show(4)"
   ]
  },
  {
   "cell_type": "code",
   "execution_count": 53,
   "metadata": {},
   "outputs": [],
   "source": [
    "df_unified_vaccine = pfizer_by_Jurisdiction\\\n",
    "                    .union(moderna_by_Jurisdiction)\\\n",
    "                    .union(janssen_by_Jurisdiction)\n",
    "\n",
    "df_unified_vaccine = df_unified_vaccine.groupby(\"Jurisdiction\").agg(\\\n",
    "                   sum('tot_first_dose_alloc').alias('tot_first_dose_alloc'),\\\n",
    "                   sum('tot_second_dose_alloc').alias('tot_second_dose_alloc'))\\\n",
    "                  .orderBy('Jurisdiction')\n",
    "            "
   ]
  },
  {
   "cell_type": "code",
   "execution_count": 54,
   "metadata": {},
   "outputs": [
    {
     "name": "stdout",
     "output_type": "stream",
     "text": [
      "+--------------------+--------------------+---------------------+\n",
      "|        Jurisdiction|tot_first_dose_alloc|tot_second_dose_alloc|\n",
      "+--------------------+--------------------+---------------------+\n",
      "|             Alabama|             2392900|              2213500|\n",
      "|              Alaska|              552020|               500420|\n",
      "|      American Samoa|               64510|                    0|\n",
      "|             Arizona|             3392520|              3138620|\n",
      "|            Arkansas|             1458220|              1349220|\n",
      "|          California|            19032860|             17604460|\n",
      "|             Chicago|             1341545|              1241645|\n",
      "|            Colorado|             2714425|              2511025|\n",
      "|         Connecticut|             1807020|              1672220|\n",
      "|            Delaware|              489910|               454210|\n",
      "|District of Columbia|              373295|               346095|\n",
      "|    Federal Entities|             8096105|              7418395|\n",
      "|             Florida|            10411930|              9630430|\n",
      "|             Georgia|             4945930|              4575030|\n",
      "|                Guam|              146800|                    0|\n",
      "|              Hawaii|              722200|               668700|\n",
      "|               Idaho|              803260|               743360|\n",
      "|            Illinois|             4950380|              4579280|\n",
      "|             Indiana|             3215385|              2974385|\n",
      "|                Iowa|             1532855|              1418155|\n",
      "+--------------------+--------------------+---------------------+\n",
      "only showing top 20 rows\n",
      "\n"
     ]
    }
   ],
   "source": [
    "df_unified_vaccine.show()"
   ]
  },
  {
   "cell_type": "code",
   "execution_count": 55,
   "metadata": {},
   "outputs": [
    {
     "name": "stdout",
     "output_type": "stream",
     "text": [
      "+---------+-------------+----------------+\n",
      "|   STNAME|Actualpop2010|Estimatedpop2019|\n",
      "+---------+-------------+----------------+\n",
      "|     Utah|      5527770|         6411916|\n",
      "|   Hawaii|      2720602|         2831744|\n",
      "|Minnesota|     10607850|        11279264|\n",
      "+---------+-------------+----------------+\n",
      "only showing top 3 rows\n",
      "\n"
     ]
    }
   ],
   "source": [
    "population_by_state.show(3)"
   ]
  },
  {
   "cell_type": "markdown",
   "metadata": {},
   "source": [
    "Ratio of the population covered with vaccinations in each state based on the allocation and population figures from the census data.\n"
   ]
  },
  {
   "cell_type": "code",
   "execution_count": 58,
   "metadata": {},
   "outputs": [
    {
     "name": "stdout",
     "output_type": "stream",
     "text": [
      "+---------+--------------------------+--------------------------+---------------------------+---------------------------+\n",
      "|   STNAME|firstVaccinatedEstPopRatio|firstVaccinatedActPopRatio|secondVaccinatedEstPopRatio|secondVaccinatedActPopRatio|\n",
      "+---------+--------------------------+--------------------------+---------------------------+---------------------------+\n",
      "|     Utah|       0.21244741821321428|       0.24642758291318198|        0.19652394073783874|         0.2279572051659168|\n",
      "|   Hawaii|       0.25503717850201146|        0.2654559542336586|        0.23614422772680016|         0.2457911888618769|\n",
      "|Minnesota|       0.23931836332583403|       0.25446579655632384|        0.22140939337885876|        0.23542329501265571|\n",
      "|     Ohio|       0.24478894867868356|        0.2480268285782244|        0.22644707462507807|         0.2294423423248499|\n",
      "| Arkansas|       0.24160283437890598|       0.25004475434494383|         0.2235433447632782|        0.23135424247183906|\n",
      "+---------+--------------------------+--------------------------+---------------------------+---------------------------+\n",
      "only showing top 5 rows\n",
      "\n"
     ]
    }
   ],
   "source": [
    "df_vaccinatedPopRatioByState = \\\n",
    "population_by_state.join(df_unified_vaccine, population_by_state.STNAME  == df_unified_vaccine.Jurisdiction)\\\n",
    "                    .drop(\"Jurisdiction\")\\\n",
    "                    .withColumn(\"firstVaccinatedEstPopRatio\", col('tot_first_dose_alloc')/col(\"Estimatedpop2019\"))\\\n",
    "                    .withColumn(\"firstVaccinatedActPopRatio\", col('tot_first_dose_alloc')/col(\"Actualpop2010\"))\\\n",
    "                    .withColumn(\"secondVaccinatedEstPopRatio\", col('tot_second_dose_alloc')/col(\"Estimatedpop2019\"))\\\n",
    "                    .withColumn(\"secondVaccinatedActPopRatio\", col('tot_second_dose_alloc')/col(\"Actualpop2010\"))\n",
    "df_vaccinatedPopRatioByState.select(\"STNAME\",\"firstVaccinatedEstPopRatio\",\"firstVaccinatedActPopRatio\",\\\n",
    "                                    'secondVaccinatedEstPopRatio','secondVaccinatedActPopRatio').show(5)"
   ]
  },
  {
   "cell_type": "markdown",
   "metadata": {},
   "source": [
    "Proportion of population that is so far not yet covered i.e. without access to vaccines as on date\n"
   ]
  },
  {
   "cell_type": "code",
   "execution_count": 72,
   "metadata": {},
   "outputs": [],
   "source": [
    "df_NotVaccinatedTotPop = df_vaccinatedPopRatioByState.withColumn(\"totPopNotVaccinated\",\\\n",
    "                        col(\"Estimatedpop2019\")-col(\"tot_first_dose_alloc\"))\\\n",
    "                            .select(\"STNAME\",\"totPopNotVaccinated\",\"Estimatedpop2019\")                                                               "
   ]
  },
  {
   "cell_type": "code",
   "execution_count": 74,
   "metadata": {},
   "outputs": [
    {
     "name": "stdout",
     "output_type": "stream",
     "text": [
      "+--------------------+-------------------+----------------+\n",
      "|              STNAME|totPopNotVaccinated|Estimatedpop2019|\n",
      "+--------------------+-------------------+----------------+\n",
      "|                Utah|            5049721|         6411916|\n",
      "|              Hawaii|            2109544|         2831744|\n",
      "|           Minnesota|            8579929|        11279264|\n",
      "|                Ohio|           17655475|        23378200|\n",
      "|            Arkansas|            4577388|         6035608|\n",
      "|              Oregon|            6380724|         8435474|\n",
      "|               Texas|           44955317|        57991762|\n",
      "|        North Dakota|            1141579|         1524124|\n",
      "|        Pennsylvania|           19969653|        25603978|\n",
      "|         Connecticut|            5323554|         7130574|\n",
      "|            Nebraska|            2940426|         3868816|\n",
      "|             Vermont|             909583|         1247978|\n",
      "|              Nevada|            4725242|         6160312|\n",
      "|          Washington|           11580751|        15229786|\n",
      "|            Illinois|           20393262|        25343642|\n",
      "|            Oklahoma|            6023617|         7913942|\n",
      "|District of Columbia|            1038203|         1411498|\n",
      "|            Delaware|            1457618|         1947528|\n",
      "|              Alaska|             911070|         1463090|\n",
      "|          New Mexico|            3156708|         4193658|\n",
      "|       West Virginia|            2653364|         3584294|\n",
      "|            Missouri|            9286576|        12274856|\n",
      "|        Rhode Island|            1573647|         2118722|\n",
      "|             Georgia|           16288916|        21234846|\n",
      "|             Montana|            1606111|         2137556|\n",
      "|            Michigan|           15055314|        19973714|\n",
      "|            Virginia|           12916213|        17071038|\n",
      "|      North Carolina|           15987698|        20976168|\n",
      "|             Wyoming|             861878|         1157518|\n",
      "|              Kansas|            4425348|         5826628|\n",
      "|          New Jersey|           13383930|        17764380|\n",
      "|            Maryland|            9127560|        12091360|\n",
      "|             Alabama|            7413470|         9806370|\n",
      "|             Arizona|           11164914|        14557434|\n",
      "|                Iowa|            4777285|         6310140|\n",
      "|       Massachusetts|           10321756|        13785006|\n",
      "|            Kentucky|            6746381|         8935346|\n",
      "|           Louisiana|            7029798|         9297588|\n",
      "|         Mississippi|            4504028|         5952298|\n",
      "|       New Hampshire|            2025062|         2719422|\n",
      "|           Tennessee|           10384443|        13658348|\n",
      "|             Florida|           32543544|        42955474|\n",
      "|             Indiana|           10249053|        13464438|\n",
      "|               Idaho|            2770870|         3574130|\n",
      "|      South Carolina|            7841343|        10297428|\n",
      "|        South Dakota|            1342903|         1769318|\n",
      "|          California|           59991586|        79024446|\n",
      "|            New York|           33333717|        38907122|\n",
      "|           Wisconsin|            8775838|        11644868|\n",
      "|            Colorado|            8803047|        11517472|\n",
      "+--------------------+-------------------+----------------+\n",
      "only showing top 50 rows\n",
      "\n"
     ]
    }
   ],
   "source": [
    "df_NotVaccinatedTotPop.show(5)"
   ]
  },
  {
   "cell_type": "markdown",
   "metadata": {},
   "source": [
    "`76.78%` of US population was not vaccinated till May 2021 "
   ]
  },
  {
   "cell_type": "code",
   "execution_count": 81,
   "metadata": {},
   "outputs": [
    {
     "data": {
      "text/plain": [
       "0.767822863610486"
      ]
     },
     "execution_count": 81,
     "metadata": {},
     "output_type": "execute_result"
    }
   ],
   "source": [
    "df_NotVaccinatedTotPop.select(sum('totPopNotVaccinated')).collect()[0][0] / \\\n",
    "df_NotVaccinatedTotPop.select(sum('Estimatedpop2019')).collect()[0][0]"
   ]
  }
 ],
 "metadata": {
  "kernelspec": {
   "display_name": "Python 3",
   "language": "python",
   "name": "python3"
  },
  "language_info": {
   "codemirror_mode": {
    "name": "ipython",
    "version": 3
   },
   "file_extension": ".py",
   "mimetype": "text/x-python",
   "name": "python",
   "nbconvert_exporter": "python",
   "pygments_lexer": "ipython3",
   "version": "3.8.8"
  }
 },
 "nbformat": 4,
 "nbformat_minor": 4
}
